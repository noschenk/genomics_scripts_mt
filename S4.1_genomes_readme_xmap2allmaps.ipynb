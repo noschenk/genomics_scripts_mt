{
 "cells": [
  {
   "cell_type": "markdown",
   "metadata": {},
   "source": [
    "# Convert .xmap to .bed for ALLMAPS"
   ]
  },
  {
   "cell_type": "markdown",
   "metadata": {},
   "source": [
    "This script explains how to convert a Bionano .xmap file to .bed file which is suitable for input to ALLMAPS. I struggeled a lot to find a corresponding script and I found it hard to find information on the Bionano ouput. That's why this file explains step by step. For those who just want the job to be done, there is the file `xmap2allmaps.py`.\n",
    "\n",
    "The **.xmap** file contains following columns : \n",
    "\n",
    "- #h XmapEntryID : the ID of the current row\n",
    "- QryContigID : The ID of the NGS Contig. Which Contig name corresponds to which ID is specified somewhere in the Bionano output files. (In my case the file had 'keys in its name.\n",
    "- RefContigID : The Super_Scaffold name/number\n",
    "- QryStartPos : where the NGS contig starts to match an optical mapping pseudomolecule\n",
    "- QryEndPos : where the NGS contig ends to match an optical mapping pseudomolecule\n",
    "- RefStartPos : where on the pseudomolecule the matching starts\n",
    "- RefEndPos : where on the pseudomolecule the matching stops\n",
    "- Orientation : the Orientation of the NGS Contig\n",
    "- Confidence : a confidence score\n",
    "- HitEnum, QryLen, RefLen, LabelChannel, Alignment can be deleted, they do not contain information which belongs into the .bed file.\n",
    "\n",
    "My input files are named 'ngsbased.xmap' and 'names.txt'. There were several .xmap files in my Bionano ouptput, I work with the one from NGS. It rather has something like 'NGS' than 'BNG' in its name. 'NGS' : 'Next generation sequencing', 'BNG' : 'Bionano Genomics'\n",
    "\n",
    "'names.txt' contains information on all Contigs, not just the ones used for optical mapping, so this list can be much longer than the xmap file."
   ]
  },
  {
   "cell_type": "code",
   "execution_count": 1,
   "metadata": {},
   "outputs": [],
   "source": [
    "import pandas as pd\n",
    "import numpy as np\n",
    "data = pd.read_table(\"GCTCTTC_EXP_REFINEFINAL1_bppAdjust_cmap_P_EXSERTA_contigs_v1_1_3_fasta_BNGcontigs_NGScontigs.xmap\", header=8) # my header was 8 rows, It is not needed for conversion\n",
    "names = pd.read_table(\"names.txt\")"
   ]
  },
  {
   "cell_type": "code",
   "execution_count": 2,
   "metadata": {},
   "outputs": [
    {
     "data": {
      "text/html": [
       "<div>\n",
       "<style scoped>\n",
       "    .dataframe tbody tr th:only-of-type {\n",
       "        vertical-align: middle;\n",
       "    }\n",
       "\n",
       "    .dataframe tbody tr th {\n",
       "        vertical-align: top;\n",
       "    }\n",
       "\n",
       "    .dataframe thead th {\n",
       "        text-align: right;\n",
       "    }\n",
       "</style>\n",
       "<table border=\"1\" class=\"dataframe\">\n",
       "  <thead>\n",
       "    <tr style=\"text-align: right;\">\n",
       "      <th></th>\n",
       "      <th>#h XmapEntryID</th>\n",
       "      <th>QryContigID</th>\n",
       "      <th>RefContigID</th>\n",
       "      <th>QryStartPos</th>\n",
       "      <th>QryEndPos</th>\n",
       "      <th>RefStartPos</th>\n",
       "      <th>RefEndPos</th>\n",
       "      <th>Orientation</th>\n",
       "      <th>Confidence</th>\n",
       "      <th>HitEnum</th>\n",
       "      <th>QryLen</th>\n",
       "      <th>RefLen</th>\n",
       "      <th>LabelChannel</th>\n",
       "      <th>Alignment</th>\n",
       "    </tr>\n",
       "  </thead>\n",
       "  <tbody>\n",
       "    <tr>\n",
       "      <th>0</th>\n",
       "      <td>#f int</td>\n",
       "      <td>int</td>\n",
       "      <td>int</td>\n",
       "      <td>float</td>\n",
       "      <td>float</td>\n",
       "      <td>float</td>\n",
       "      <td>float</td>\n",
       "      <td>string</td>\n",
       "      <td>float</td>\n",
       "      <td>string</td>\n",
       "      <td>float</td>\n",
       "      <td>float</td>\n",
       "      <td>int</td>\n",
       "      <td>string</td>\n",
       "    </tr>\n",
       "    <tr>\n",
       "      <th>1</th>\n",
       "      <td>1</td>\n",
       "      <td>9</td>\n",
       "      <td>6</td>\n",
       "      <td>1979830.2</td>\n",
       "      <td>1896561.4</td>\n",
       "      <td>10905.0</td>\n",
       "      <td>94125.0</td>\n",
       "      <td>-</td>\n",
       "      <td>13.24</td>\n",
       "      <td>6M1D2M1D1M1D3M</td>\n",
       "      <td>3091368.2</td>\n",
       "      <td>116084.0</td>\n",
       "      <td>1</td>\n",
       "      <td>(1,235)(2,234)(3,233)(4,232)(5,231)(6,230)(7,2...</td>\n",
       "    </tr>\n",
       "    <tr>\n",
       "      <th>2</th>\n",
       "      <td>2</td>\n",
       "      <td>1006</td>\n",
       "      <td>11</td>\n",
       "      <td>1133607.3</td>\n",
       "      <td>1006319.4</td>\n",
       "      <td>10163.0</td>\n",
       "      <td>137359.0</td>\n",
       "      <td>-</td>\n",
       "      <td>12.67</td>\n",
       "      <td>10M1D1M</td>\n",
       "      <td>2625477.9</td>\n",
       "      <td>180532.0</td>\n",
       "      <td>1</td>\n",
       "      <td>(1,93)(2,93)(3,92)(4,91)(5,90)(6,89)(7,88)(8,8...</td>\n",
       "    </tr>\n",
       "    <tr>\n",
       "      <th>3</th>\n",
       "      <td>3</td>\n",
       "      <td>862</td>\n",
       "      <td>21</td>\n",
       "      <td>3304915.3</td>\n",
       "      <td>3150323.3</td>\n",
       "      <td>5154.0</td>\n",
       "      <td>160399.0</td>\n",
       "      <td>-</td>\n",
       "      <td>21.40</td>\n",
       "      <td>15M1D1M</td>\n",
       "      <td>5362440.5</td>\n",
       "      <td>169247.0</td>\n",
       "      <td>1</td>\n",
       "      <td>(1,302)(2,302)(3,301)(4,300)(5,299)(6,298)(7,2...</td>\n",
       "    </tr>\n",
       "    <tr>\n",
       "      <th>4</th>\n",
       "      <td>4</td>\n",
       "      <td>705</td>\n",
       "      <td>40</td>\n",
       "      <td>1983671.9</td>\n",
       "      <td>1810779.2</td>\n",
       "      <td>2768.0</td>\n",
       "      <td>175088.0</td>\n",
       "      <td>-</td>\n",
       "      <td>23.47</td>\n",
       "      <td>6M1D5M1D2M1D5M1D2M1D1M</td>\n",
       "      <td>2799289.6</td>\n",
       "      <td>175494.0</td>\n",
       "      <td>1</td>\n",
       "      <td>(1,176)(2,176)(3,175)(4,174)(5,173)(6,172)(7,1...</td>\n",
       "    </tr>\n",
       "  </tbody>\n",
       "</table>\n",
       "</div>"
      ],
      "text/plain": [
       "   #h XmapEntryID  QryContigID  RefContigID  QryStartPos  QryEndPos  \\\n",
       "0  #f int          int          int          float        float       \n",
       "1               1            9            6    1979830.2  1896561.4   \n",
       "2               2         1006           11    1133607.3  1006319.4   \n",
       "3               3          862           21    3304915.3  3150323.3   \n",
       "4               4          705           40    1983671.9  1810779.2   \n",
       "\n",
       "   RefStartPos  RefEndPos  Orientation  Confidence                 HitEnum  \\\n",
       "0  float        float      string       float                      string    \n",
       "1      10905.0    94125.0            -       13.24          6M1D2M1D1M1D3M   \n",
       "2      10163.0   137359.0            -       12.67                 10M1D1M   \n",
       "3       5154.0   160399.0            -       21.40                 15M1D1M   \n",
       "4       2768.0   175088.0            -       23.47  6M1D5M1D2M1D5M1D2M1D1M   \n",
       "\n",
       "      QryLen    RefLen  LabelChannel  \\\n",
       "0     float     float   int            \n",
       "1  3091368.2  116084.0             1   \n",
       "2  2625477.9  180532.0             1   \n",
       "3  5362440.5  169247.0             1   \n",
       "4  2799289.6  175494.0             1   \n",
       "\n",
       "                                           Alignment  \n",
       "0                                          string     \n",
       "1  (1,235)(2,234)(3,233)(4,232)(5,231)(6,230)(7,2...  \n",
       "2  (1,93)(2,93)(3,92)(4,91)(5,90)(6,89)(7,88)(8,8...  \n",
       "3  (1,302)(2,302)(3,301)(4,300)(5,299)(6,298)(7,2...  \n",
       "4  (1,176)(2,176)(3,175)(4,174)(5,173)(6,172)(7,1...  "
      ]
     },
     "execution_count": 2,
     "metadata": {},
     "output_type": "execute_result"
    }
   ],
   "source": [
    "data.head()"
   ]
  },
  {
   "cell_type": "code",
   "execution_count": 3,
   "metadata": {},
   "outputs": [
    {
     "data": {
      "text/html": [
       "<div>\n",
       "<style scoped>\n",
       "    .dataframe tbody tr th:only-of-type {\n",
       "        vertical-align: middle;\n",
       "    }\n",
       "\n",
       "    .dataframe tbody tr th {\n",
       "        vertical-align: top;\n",
       "    }\n",
       "\n",
       "    .dataframe thead th {\n",
       "        text-align: right;\n",
       "    }\n",
       "</style>\n",
       "<table border=\"1\" class=\"dataframe\">\n",
       "  <thead>\n",
       "    <tr style=\"text-align: right;\">\n",
       "      <th></th>\n",
       "      <th>CompntId</th>\n",
       "      <th>CompntName</th>\n",
       "    </tr>\n",
       "  </thead>\n",
       "  <tbody>\n",
       "    <tr>\n",
       "      <th>0</th>\n",
       "      <td>1</td>\n",
       "      <td>Peex113Ctg00001</td>\n",
       "    </tr>\n",
       "    <tr>\n",
       "      <th>1</th>\n",
       "      <td>2</td>\n",
       "      <td>Peex113Ctg00002</td>\n",
       "    </tr>\n",
       "    <tr>\n",
       "      <th>2</th>\n",
       "      <td>3</td>\n",
       "      <td>Peex113Ctg00003</td>\n",
       "    </tr>\n",
       "    <tr>\n",
       "      <th>3</th>\n",
       "      <td>4</td>\n",
       "      <td>Peex113Ctg00004</td>\n",
       "    </tr>\n",
       "    <tr>\n",
       "      <th>4</th>\n",
       "      <td>5</td>\n",
       "      <td>Peex113Ctg00005</td>\n",
       "    </tr>\n",
       "  </tbody>\n",
       "</table>\n",
       "</div>"
      ],
      "text/plain": [
       "   CompntId       CompntName\n",
       "0         1  Peex113Ctg00001\n",
       "1         2  Peex113Ctg00002\n",
       "2         3  Peex113Ctg00003\n",
       "3         4  Peex113Ctg00004\n",
       "4         5  Peex113Ctg00005"
      ]
     },
     "execution_count": 3,
     "metadata": {},
     "output_type": "execute_result"
    }
   ],
   "source": [
    "names.head()"
   ]
  },
  {
   "cell_type": "markdown",
   "metadata": {},
   "source": [
    "Delete unneeded columns and rows."
   ]
  },
  {
   "cell_type": "code",
   "execution_count": 4,
   "metadata": {},
   "outputs": [],
   "source": [
    "data = data.drop(['Alignment', 'HitEnum', 'QryLen', 'RefLen', 'LabelChannel'], axis=1)\n",
    "data = data.drop(data.index[0]) # delete row 0"
   ]
  },
  {
   "cell_type": "markdown",
   "metadata": {},
   "source": [
    "The .bed file can not contain floats, they need to be rounded and changed to type 'integer'."
   ]
  },
  {
   "cell_type": "code",
   "execution_count": 5,
   "metadata": {},
   "outputs": [
    {
     "data": {
      "text/plain": [
       "#h XmapEntryID     object\n",
       "QryContigID        object\n",
       "RefContigID        object\n",
       "QryStartPos       float64\n",
       "QryEndPos         float64\n",
       "RefStartPos         int64\n",
       "RefEndPos           int64\n",
       "Orientation        object\n",
       "Confidence         object\n",
       "dtype: object"
      ]
     },
     "execution_count": 5,
     "metadata": {},
     "output_type": "execute_result"
    }
   ],
   "source": [
    "data[['QryStartPos', 'QryEndPos','RefStartPos','RefEndPos']] = data.loc[:,['QryStartPos', 'QryEndPos','RefStartPos','RefEndPos']].astype('float')#.astype('int')\n",
    "# round the columns before converting to int\n",
    "# change : take out QryStartPos and End Pos as this can be a float\n",
    "data[['RefStartPos','RefEndPos']] = np.ceil(data[['RefStartPos','RefEndPos']]).astype('int')\n",
    "data.dtypes # shows all types occurring in the data frame column wise"
   ]
  },
  {
   "cell_type": "markdown",
   "metadata": {},
   "source": [
    "Rename contig Id column so it matches first column of 'names'."
   ]
  },
  {
   "cell_type": "code",
   "execution_count": 6,
   "metadata": {},
   "outputs": [],
   "source": [
    "if(data.columns[2] == 'RefContigID'):\n",
    "    data = data.rename(index=str,columns={data.columns[2] : 'CompntId'})"
   ]
  },
  {
   "cell_type": "markdown",
   "metadata": {},
   "source": [
    "Change Name column of data to int so it can be merged to names."
   ]
  },
  {
   "cell_type": "code",
   "execution_count": 7,
   "metadata": {},
   "outputs": [],
   "source": [
    "data[['CompntId']] = data[['CompntId']].astype('int')"
   ]
  },
  {
   "cell_type": "markdown",
   "metadata": {},
   "source": [
    "Merge data and names dataframes."
   ]
  },
  {
   "cell_type": "code",
   "execution_count": 8,
   "metadata": {},
   "outputs": [
    {
     "data": {
      "text/html": [
       "<div>\n",
       "<style scoped>\n",
       "    .dataframe tbody tr th:only-of-type {\n",
       "        vertical-align: middle;\n",
       "    }\n",
       "\n",
       "    .dataframe tbody tr th {\n",
       "        vertical-align: top;\n",
       "    }\n",
       "\n",
       "    .dataframe thead th {\n",
       "        text-align: right;\n",
       "    }\n",
       "</style>\n",
       "<table border=\"1\" class=\"dataframe\">\n",
       "  <thead>\n",
       "    <tr style=\"text-align: right;\">\n",
       "      <th></th>\n",
       "      <th>CompntId</th>\n",
       "      <th>CompntName</th>\n",
       "      <th>#h XmapEntryID</th>\n",
       "      <th>QryContigID</th>\n",
       "      <th>QryStartPos</th>\n",
       "      <th>QryEndPos</th>\n",
       "      <th>RefStartPos</th>\n",
       "      <th>RefEndPos</th>\n",
       "      <th>Orientation</th>\n",
       "      <th>Confidence</th>\n",
       "    </tr>\n",
       "  </thead>\n",
       "  <tbody>\n",
       "    <tr>\n",
       "      <th>0</th>\n",
       "      <td>6</td>\n",
       "      <td>Peex113Ctg00006</td>\n",
       "      <td>1</td>\n",
       "      <td>9</td>\n",
       "      <td>1979830.2</td>\n",
       "      <td>1896561.4</td>\n",
       "      <td>10905</td>\n",
       "      <td>94125</td>\n",
       "      <td>-</td>\n",
       "      <td>13.24</td>\n",
       "    </tr>\n",
       "    <tr>\n",
       "      <th>1</th>\n",
       "      <td>11</td>\n",
       "      <td>Peex113Ctg00011</td>\n",
       "      <td>2</td>\n",
       "      <td>1006</td>\n",
       "      <td>1133607.3</td>\n",
       "      <td>1006319.4</td>\n",
       "      <td>10163</td>\n",
       "      <td>137359</td>\n",
       "      <td>-</td>\n",
       "      <td>12.67</td>\n",
       "    </tr>\n",
       "    <tr>\n",
       "      <th>2</th>\n",
       "      <td>21</td>\n",
       "      <td>Peex113Ctg00021</td>\n",
       "      <td>3</td>\n",
       "      <td>862</td>\n",
       "      <td>3304915.3</td>\n",
       "      <td>3150323.3</td>\n",
       "      <td>5154</td>\n",
       "      <td>160399</td>\n",
       "      <td>-</td>\n",
       "      <td>21.40</td>\n",
       "    </tr>\n",
       "    <tr>\n",
       "      <th>3</th>\n",
       "      <td>40</td>\n",
       "      <td>Peex113Ctg00040</td>\n",
       "      <td>4</td>\n",
       "      <td>705</td>\n",
       "      <td>1983671.9</td>\n",
       "      <td>1810779.2</td>\n",
       "      <td>2768</td>\n",
       "      <td>175088</td>\n",
       "      <td>-</td>\n",
       "      <td>23.47</td>\n",
       "    </tr>\n",
       "    <tr>\n",
       "      <th>4</th>\n",
       "      <td>43</td>\n",
       "      <td>Peex113Ctg00043</td>\n",
       "      <td>5</td>\n",
       "      <td>267</td>\n",
       "      <td>697847.4</td>\n",
       "      <td>900790.6</td>\n",
       "      <td>8048</td>\n",
       "      <td>211715</td>\n",
       "      <td>+</td>\n",
       "      <td>25.72</td>\n",
       "    </tr>\n",
       "  </tbody>\n",
       "</table>\n",
       "</div>"
      ],
      "text/plain": [
       "   CompntId       CompntName #h XmapEntryID QryContigID  QryStartPos  \\\n",
       "0         6  Peex113Ctg00006              1           9    1979830.2   \n",
       "1        11  Peex113Ctg00011              2        1006    1133607.3   \n",
       "2        21  Peex113Ctg00021              3         862    3304915.3   \n",
       "3        40  Peex113Ctg00040              4         705    1983671.9   \n",
       "4        43  Peex113Ctg00043              5         267     697847.4   \n",
       "\n",
       "   QryEndPos  RefStartPos  RefEndPos Orientation Confidence  \n",
       "0  1896561.4        10905      94125           -      13.24  \n",
       "1  1006319.4        10163     137359           -      12.67  \n",
       "2  3150323.3         5154     160399           -      21.40  \n",
       "3  1810779.2         2768     175088           -      23.47  \n",
       "4   900790.6         8048     211715           +      25.72  "
      ]
     },
     "execution_count": 8,
     "metadata": {},
     "output_type": "execute_result"
    }
   ],
   "source": [
    "data = names.merge(data, on='CompntId')\n",
    "data.head()"
   ]
  },
  {
   "cell_type": "markdown",
   "metadata": {},
   "source": [
    "## Create bedfile\n",
    "Start creating columns of the new bed file named 'bed'."
   ]
  },
  {
   "cell_type": "code",
   "execution_count": 9,
   "metadata": {},
   "outputs": [],
   "source": [
    "bed = pd.DataFrame(data['CompntName'])\n",
    "# change start to reference (NGS) start position\n",
    "bed['start'] = data['RefStartPos']\n",
    "bed['end'] = data['RefEndPos']\n",
    "bed['name'] = \"SuperScaffold\" + data['QryContigID'] + \":\" + data['QryStartPos'].astype(str)\n",
    "bed['score'] = data['Confidence']\n",
    "bed['orientation'] = data['Orientation']"
   ]
  },
  {
   "cell_type": "code",
   "execution_count": 10,
   "metadata": {},
   "outputs": [
    {
     "data": {
      "text/html": [
       "<div>\n",
       "<style scoped>\n",
       "    .dataframe tbody tr th:only-of-type {\n",
       "        vertical-align: middle;\n",
       "    }\n",
       "\n",
       "    .dataframe tbody tr th {\n",
       "        vertical-align: top;\n",
       "    }\n",
       "\n",
       "    .dataframe thead th {\n",
       "        text-align: right;\n",
       "    }\n",
       "</style>\n",
       "<table border=\"1\" class=\"dataframe\">\n",
       "  <thead>\n",
       "    <tr style=\"text-align: right;\">\n",
       "      <th></th>\n",
       "      <th>CompntName</th>\n",
       "      <th>start</th>\n",
       "      <th>end</th>\n",
       "      <th>name</th>\n",
       "      <th>score</th>\n",
       "      <th>orientation</th>\n",
       "    </tr>\n",
       "  </thead>\n",
       "  <tbody>\n",
       "    <tr>\n",
       "      <th>0</th>\n",
       "      <td>Peex113Ctg00006</td>\n",
       "      <td>10905</td>\n",
       "      <td>94125</td>\n",
       "      <td>SuperScaffold9:1979830.2</td>\n",
       "      <td>13.24</td>\n",
       "      <td>-</td>\n",
       "    </tr>\n",
       "    <tr>\n",
       "      <th>1</th>\n",
       "      <td>Peex113Ctg00011</td>\n",
       "      <td>10163</td>\n",
       "      <td>137359</td>\n",
       "      <td>SuperScaffold1006:1133607.3</td>\n",
       "      <td>12.67</td>\n",
       "      <td>-</td>\n",
       "    </tr>\n",
       "    <tr>\n",
       "      <th>2</th>\n",
       "      <td>Peex113Ctg00021</td>\n",
       "      <td>5154</td>\n",
       "      <td>160399</td>\n",
       "      <td>SuperScaffold862:3304915.3</td>\n",
       "      <td>21.40</td>\n",
       "      <td>-</td>\n",
       "    </tr>\n",
       "    <tr>\n",
       "      <th>3</th>\n",
       "      <td>Peex113Ctg00040</td>\n",
       "      <td>2768</td>\n",
       "      <td>175088</td>\n",
       "      <td>SuperScaffold705:1983671.9</td>\n",
       "      <td>23.47</td>\n",
       "      <td>-</td>\n",
       "    </tr>\n",
       "    <tr>\n",
       "      <th>4</th>\n",
       "      <td>Peex113Ctg00043</td>\n",
       "      <td>8048</td>\n",
       "      <td>211715</td>\n",
       "      <td>SuperScaffold267:697847.4</td>\n",
       "      <td>25.72</td>\n",
       "      <td>+</td>\n",
       "    </tr>\n",
       "  </tbody>\n",
       "</table>\n",
       "</div>"
      ],
      "text/plain": [
       "        CompntName  start     end                         name  score  \\\n",
       "0  Peex113Ctg00006  10905   94125     SuperScaffold9:1979830.2  13.24   \n",
       "1  Peex113Ctg00011  10163  137359  SuperScaffold1006:1133607.3  12.67   \n",
       "2  Peex113Ctg00021   5154  160399   SuperScaffold862:3304915.3  21.40   \n",
       "3  Peex113Ctg00040   2768  175088   SuperScaffold705:1983671.9  23.47   \n",
       "4  Peex113Ctg00043   8048  211715    SuperScaffold267:697847.4  25.72   \n",
       "\n",
       "  orientation  \n",
       "0           -  \n",
       "1           -  \n",
       "2           -  \n",
       "3           -  \n",
       "4           +  "
      ]
     },
     "execution_count": 10,
     "metadata": {},
     "output_type": "execute_result"
    }
   ],
   "source": [
    "bed.head()"
   ]
  },
  {
   "cell_type": "markdown",
   "metadata": {},
   "source": [
    "# change : if I take the RefStart and RefEnd positions, + and - strands are well formatted already."
   ]
  },
  {
   "cell_type": "code",
   "execution_count": 84,
   "metadata": {},
   "outputs": [],
   "source": [
    "#new = bed[bed.orientation == '-']"
   ]
  },
  {
   "cell_type": "markdown",
   "metadata": {},
   "source": [
    "For rows with orientation -, the start and end positions are swapped. In the .bed file, start and end position must be ascending."
   ]
  },
  {
   "cell_type": "code",
   "execution_count": 85,
   "metadata": {},
   "outputs": [],
   "source": [
    "#new = bed[bed.orientation == '-']\n",
    "#new = new[['CompntName', 'end', 'start', 'name', 'score', 'orientation']]\n",
    "#new.rename(columns={'end':'start', 'start':'end'}, inplace=True)\n",
    "#bed[bed.orientation == '-'] = new"
   ]
  },
  {
   "cell_type": "markdown",
   "metadata": {},
   "source": [
    "The .bed file table is ready now, it only needs to be printed to a tab-delimined file now."
   ]
  },
  {
   "cell_type": "code",
   "execution_count": 11,
   "metadata": {},
   "outputs": [],
   "source": [
    "bed.to_csv('bionanonew.bed', sep='\\t', header=False, index=False)"
   ]
  },
  {
   "cell_type": "markdown",
   "metadata": {},
   "source": [
    "# Avoid bugs\n",
    "There have been several issues I have met during reformatting of the files. I will list them here in case you adapt the script for your own purposes:\n",
    "\n",
    "- The name column (column 4 in the .bed file) consists of a name and a location. The name can not contain any underlines \\_ , dashes - or points, the only special character allowed is ':'. E.g. don't change the name to 'Super_Scaffold_11:17683' but leave it like 'SuperScaffold11:17683'.\n",
    "Especially the dashes, because in the merged bed file (in case the optical mapping data is merged with another map data), the name will change to 'nameofmap-SuperScaffold11:17683' and if there is an additional dash - like 'nameofmap-SuperScaffold-11:17683', ALLMAPS will interpret 11:17683 as a location. The resulting Scaffolding output will then not contain any information of this map.\n",
    "\n",
    "- make sure the 'CompntName' in the .bed file matches the Sequence names in the .fasta file you will feed into ALLMAPS.\n",
    "- make sure the .bed file is tab-delimined\n",
    "- if you have any other maps, like genetic maps, make sure the Linkage group names do not contain any special character like 'L.1', instead change the name to something like 'L1'.\n",
    "- getting an error like 'AttributeError: 'ScaffoldOO' object has no attribute 'object'' means there is something wrong with the names, in my case I had special characters at the wrong places in my .bed file.\n",
    "- I compared the [sample .bed file](https://figshare.com/articles/ALLMAPS_supporting_data_Medicago_genome_assembly/1057745) a lot with my own, in case you have more problems with conversion, this might help you as well. \n",
    "\n",
    "\n",
    "\n",
    "### Conversion problems/ things to consider (copied in without revision!!- TODO)\n",
    "* .bed format: NGS-contig name, NGS-start position, NGS-end position, Name of optical mapping SuperScaffold and its starting position (e.g. SS40:340.2), score, strand\n",
    "    * the map position needs to be given with the name of the map scaffold\n",
    "    * RefStart and not QryStart (had QryStart first)\n",
    "* .bed is tab-delimined\n",
    "* 577 unique contigs in OM data\n",
    "* names of Peex113Ctgs must match with scaffolds.fasta file (they do)\n",
    "* no empty lines\n",
    "* no '\\_' and '.' together in file names, neither in Scaffold names (not sure if the second is necessary)\n",
    "    * genetic map linkage group not 'L.1' but 'L1'\n",
    "* no '-' in Scaffold names, dash is used to specify the map in ALLMAPS, e.g. if it is the opticalmap or the geneticmap\n",
    "\n",
    "* Problem: only geneticmap information is used for allmaps, the optical mapping info appears in the \"unmapped\" file.\n",
    "    * run break of chimeric contigs first?"
   ]
  }
 ],
 "metadata": {
  "kernelspec": {
   "display_name": "Python 3",
   "language": "python",
   "name": "python3"
  },
  "language_info": {
   "codemirror_mode": {
    "name": "ipython",
    "version": 2
   },
   "file_extension": ".py",
   "mimetype": "text/x-python",
   "name": "python",
   "nbconvert_exporter": "python",
   "pygments_lexer": "ipython2",
   "version": "2.7.15"
  }
 },
 "nbformat": 4,
 "nbformat_minor": 2
}
